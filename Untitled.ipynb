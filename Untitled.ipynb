{
 "cells": [
  {
   "cell_type": "code",
   "execution_count": 1,
   "metadata": {
    "collapsed": true
   },
   "outputs": [],
   "source": [
    "%matplotlib inline\n",
    "import numpy as np\n",
    "import matplotlib.pyplot as plt\n",
    "from tqdm import tnrange,tqdm_notebook\n",
    "from qutip import *"
   ]
  },
  {
   "cell_type": "markdown",
   "metadata": {},
   "source": [
    "$H=\\left(\n",
    "\\begin{array}{ccc}\n",
    " \\omega  & e^{i \\phi } \\cos (\\text{$\\alpha $1}+\\text{$\\alpha $2}) & e^{-i \\phi } \\cos (\\text{$\\alpha $1}) \\\\\n",
    " e^{-i \\phi } \\cos (\\text{$\\alpha $1}+\\text{$\\alpha $2}) & \\omega  & e^{i \\phi } \\cos (\\text{$\\alpha $2}) \\\\\n",
    " e^{i \\phi } \\cos (\\text{$\\alpha $1}) & 2 e^{-i \\phi } \\cos (\\text{$\\alpha $2}) & \\omega  \\\\\n",
    "\\end{array}\n",
    "\\right)$"
   ]
  },
  {
   "cell_type": "code",
   "execution_count": null,
   "metadata": {
    "collapsed": true
   },
   "outputs": [],
   "source": [
    "v = 0.1\n",
    "def dynamic_factor0()"
   ]
  },
  {
   "cell_type": "code",
   "execution_count": null,
   "metadata": {
    "collapsed": true
   },
   "outputs": [],
   "source": []
  },
  {
   "cell_type": "code",
   "execution_count": null,
   "metadata": {
    "collapsed": true
   },
   "outputs": [],
   "source": [
    "def connection(alpha2,n_state,w,phi):\n",
    "    n_state = n_state-1\n",
    "    g=basis(3,0)\n",
    "    e1=basis(3,1)\n",
    "    e2=basis(3,2)\n",
    "    alpha1 = 0\n",
    "    \n",
    "    H = 0.0\n",
    "    temp = 1/2.0*w*g*g.dag()+1/2.0*w*e1*e1.dag()+1/2.0*w*e2*e2.dag()\n",
    "    H += temp + temp.dag()\n",
    "    temp = np.exp(1j*phi)*np.cos(alpha2)*e1*e2.dag()\n",
    "    H += temp + temp.dag()\n",
    "    \n",
    "    \n",
    "    return result"
   ]
  }
 ],
 "metadata": {
  "kernelspec": {
   "display_name": "Python 2",
   "language": "python",
   "name": "python2"
  },
  "language_info": {
   "codemirror_mode": {
    "name": "ipython",
    "version": 2
   },
   "file_extension": ".py",
   "mimetype": "text/x-python",
   "name": "python",
   "nbconvert_exporter": "python",
   "pygments_lexer": "ipython2",
   "version": "2.7.13"
  }
 },
 "nbformat": 4,
 "nbformat_minor": 2
}
