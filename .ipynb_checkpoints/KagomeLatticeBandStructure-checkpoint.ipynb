{
 "cells": [
  {
   "cell_type": "code",
   "execution_count": 1,
   "metadata": {
    "collapsed": true
   },
   "outputs": [],
   "source": [
    "import numpy as np\n",
    "import matplotlib as plt\n",
    "from qutip import *\n",
    "import time"
   ]
  },
  {
   "cell_type": "code",
   "execution_count": null,
   "metadata": {
    "collapsed": true
   },
   "outputs": [],
   "source": [
    "adown = destroy(2)\n",
    "aup = create(2)\n",
    "adown_list_unit = []\n",
    "adown_list = []\n",
    "aup_list_unit = []\n",
    "aup_list = []\n",
    "#create and destroy op for single qubit\n",
    "for n in range(3):\n",
    "    op_list = []\n",
    "    for m in range(3):\n",
    "        op_list.append(qeye(2))\n",
    "    op_list[n] = aup\n",
    "    aup_list_unit.append(tensor(op_list))\n",
    "\n",
    "    op_list[n] = adown\n",
    "    adown_list.unit(tensor(op_list))\n",
    "    #in the smallest unit,I construct the 3-operater\n",
    "for n in range(3):\n",
    "    aup_list.append(aup_list_unit)\n",
    "    adown_list.append(adown_list_unit)\n"
   ]
  }
 ],
 "metadata": {
  "kernelspec": {
   "display_name": "Python 2",
   "language": "python",
   "name": "python2"
  },
  "language_info": {
   "codemirror_mode": {
    "name": "ipython",
    "version": 2
   },
   "file_extension": ".py",
   "mimetype": "text/x-python",
   "name": "python",
   "nbconvert_exporter": "python",
   "pygments_lexer": "ipython2",
   "version": "2.7.13"
  }
 },
 "nbformat": 4,
 "nbformat_minor": 2
}
