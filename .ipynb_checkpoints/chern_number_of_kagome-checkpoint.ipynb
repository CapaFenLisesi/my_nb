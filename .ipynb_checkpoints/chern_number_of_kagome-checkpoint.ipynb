{
 "cells": [
  {
   "cell_type": "code",
   "execution_count": 2,
   "metadata": {
    "collapsed": true
   },
   "outputs": [],
   "source": [
    "%matplotlib inline\n",
    "import numpy as np\n",
    "import matplotlib as plt\n",
    "from qutip import *"
   ]
  },
  {
   "cell_type": "code",
   "execution_count": 80,
   "metadata": {
    "collapsed": true
   },
   "outputs": [],
   "source": [
    "v = 0.001\n",
    "def dynamic_factor0(t,args ):\n",
    "    return np.cos(1/2*v*t)\n",
    "def dynamic_factor1(t,args ):\n",
    "    return np.cos(1/4*v*t - np.sqrt(3)/4*args['k2'])\n",
    "def dynamic_factor2(t,args):\n",
    "    return np.cos(1/4*v*t + np.sqrt(3)/4*args['k2'])\n",
    "\n",
    "# def moving_k2(w,k1,k2,phi,t):\n",
    "#     delta1 = 1/4*k1 - np.sqrt(3) / 4 * k2\n",
    "#     delta2 = 1/4*k1 - np.sqrt(3) / 4 * k2\n",
    "# #geometry factor\n",
    "#     exc = basis(3,1)\n",
    "#     g_1 = basis(3,0)\n",
    "#     g_2 = basis(3,2)\n",
    "# #basis of a three-level atom\n",
    "#     u = 2*t*np.exp(1j*phi)\n",
    "#     u_dag = 2*t*np.exp(-1j*phi)\n",
    "# #some factors\n",
    "#     temp = u*np.cos(1/2*k1)*tensor(exc,g_1)\n",
    "#     H0 = temp+temp.dag()\n",
    "# #static hamiltonian\n",
    "#     temp = u.dag*tensor(exc,g_2)\n",
    "#     H1 = temp+temp.dag()\n",
    "#     temp = u*tensor(g_1,g_2)\n",
    "#     H2 = temp+temp.dag()\n",
    "#     H = [H0,[H1,dynamic_factor1],[H2,dynamic_factor2]]\n",
    "    "
   ]
  },
  {
   "cell_type": "code",
   "execution_count": 144,
   "metadata": {
    "collapsed": false
   },
   "outputs": [
    {
     "data": {
      "text/plain": [
       "6.74807432154978e-14"
      ]
     },
     "execution_count": 144,
     "metadata": {},
     "output_type": "execute_result"
    }
   ],
   "source": [
    "w = 0\n",
    "k1 = 2 \n",
    "k2 = 2\n",
    "phi = np.pi/3\n",
    "step = 100\n",
    "\n",
    "delta1 = 1/4*k1 - np.sqrt(3) / 4 * k2\n",
    "delta2 = 1/4*k1 - np.sqrt(3) / 4 * k2\n",
    "#geometry factor\n",
    "exc = basis(3,1)\n",
    "g_1 = basis(3,0)\n",
    "g_2 = basis(3,2)\n",
    "#basis of a three-level atom\n",
    "u = np.exp(1j*phi)\n",
    "u_dag = np.exp(-1j*phi)\n",
    "#some factors\n",
    "temp = u*np.cos(1/2*k1)*exc*g_1.dag()\n",
    "H0 = temp+temp.dag()\n",
    "temp = u*exc*g_2.dag()\n",
    "H1 = temp+temp.dag()\n",
    "temp = u_dag*g_1*g_2.dag()\n",
    "H2 = temp+temp.dag()\n",
    "H_static=+w*exc*exc.dag()+w*g_1*g_1.dag()+w*g_2*g_2.dag()\n",
    "#static hamiltonian\n",
    "H = [H_static,[H0,dynamic_factor0],[H1,dynamic_factor1],[H2,dynamic_factor2]]\n",
    "#dynamic_hamiltonian\n",
    "psi0 = (H0 +  H1 * np.cos ( delta2) + H2 * np.cos(delta1)).eigenstates()[1][0] \n",
    "#groundstate\n",
    "F = Qobj([[0,0,np.exp(-1j * phi)*np.sin(delta1)*np.sqrt(3)/4],\n",
    "            [0,0,- np.exp(1j * phi)*np.sin(delta2)*np.sqrt(3)/4],\n",
    "            [np.exp(1j * phi)*np.sin(delta1)*np.sqrt(3)/4,-np.exp(-1j * phi)*np.sin(delta2)*np.sqrt(3)/4,0]\n",
    "            ])\n",
    "#the mearsurement quantity\n",
    "t_list = np.linspace(0,k1/v,step)\n",
    "result = mesolve(H,psi0,t_list,[],args = {'k2':k2})\n",
    "expect(F,result.states[step-1])/v"
   ]
  },
  {
   "cell_type": "code",
   "execution_count": 104,
   "metadata": {
    "collapsed": false
   },
   "outputs": [
    {
     "data": {
      "text/plain": [
       "[]"
      ]
     },
     "execution_count": 104,
     "metadata": {},
     "output_type": "execute_result"
    }
   ],
   "source": [
    "result.expect"
   ]
  },
  {
   "cell_type": "code",
   "execution_count": 102,
   "metadata": {
    "collapsed": false
   },
   "outputs": [],
   "source": [
    "psi0 = (H0 +  H1 * np.cos (- np.sqrt(3)/4*k2) + H2 * np.cos(np.sqrt(3)/4*k2)).eigenstates()[1][1]"
   ]
  },
  {
   "cell_type": "code",
   "execution_count": 99,
   "metadata": {
    "collapsed": false
   },
   "outputs": [
    {
     "data": {
      "text/latex": [
       "Quantum object: dims = [[3], [1]], shape = (3, 1), type = ket\\begin{equation*}\\left(\\begin{array}{*{11}c}0.522\\\\(0.439-0.283j)\\\\(-0.647+0.190j)\\\\\\end{array}\\right)\\end{equation*}"
      ],
      "text/plain": [
       "Quantum object: dims = [[3], [1]], shape = (3, 1), type = ket\n",
       "Qobj data =\n",
       "[[ 0.52233778+0.j        ]\n",
       " [ 0.43912770-0.2828491j ]\n",
       " [-0.64663642+0.19023099j]]"
      ]
     },
     "execution_count": 99,
     "metadata": {},
     "output_type": "execute_result"
    }
   ],
   "source": [
    "psi0"
   ]
  },
  {
   "cell_type": "code",
   "execution_count": null,
   "metadata": {
    "collapsed": true
   },
   "outputs": [],
   "source": []
  }
 ],
 "metadata": {
  "kernelspec": {
   "display_name": "Python 2",
   "language": "python",
   "name": "python2"
  },
  "language_info": {
   "codemirror_mode": {
    "name": "ipython",
    "version": 2
   },
   "file_extension": ".py",
   "mimetype": "text/x-python",
   "name": "python",
   "nbconvert_exporter": "python",
   "pygments_lexer": "ipython2",
   "version": "2.7.13"
  }
 },
 "nbformat": 4,
 "nbformat_minor": 2
}
