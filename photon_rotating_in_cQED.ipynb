{
 "cells": [
  {
   "cell_type": "code",
   "execution_count": 2,
   "metadata": {
    "collapsed": true
   },
   "outputs": [],
   "source": [
    "%matplotlib inline\n",
    "import numpy as np\n",
    "import matplotlib as plt\n",
    "from qutip import *"
   ]
  },
  {
   "cell_type": "code",
   "execution_count": 1,
   "metadata": {
    "collapsed": false,
    "scrolled": true
   },
   "outputs": [
    {
     "ename": "NameError",
     "evalue": "name 'np' is not defined",
     "output_type": "error",
     "traceback": [
      "\u001b[0;31m---------------------------------------------------------------------------\u001b[0m",
      "\u001b[0;31mNameError\u001b[0m                                 Traceback (most recent call last)",
      "\u001b[0;32m<ipython-input-1-4d022b007ade>\u001b[0m in \u001b[0;36m<module>\u001b[0;34m()\u001b[0m\n\u001b[1;32m      1\u001b[0m \u001b[0mmaxPhoton\u001b[0m \u001b[1;33m=\u001b[0m \u001b[1;36m3\u001b[0m\u001b[1;33m\u001b[0m\u001b[0m\n\u001b[1;32m      2\u001b[0m \u001b[0mmaxCav\u001b[0m \u001b[1;33m=\u001b[0m \u001b[1;36m4\u001b[0m\u001b[1;33m\u001b[0m\u001b[0m\n\u001b[0;32m----> 3\u001b[0;31m \u001b[0mtheta\u001b[0m \u001b[1;33m=\u001b[0m \u001b[1;33m-\u001b[0m\u001b[1;36m0.8\u001b[0m\u001b[1;33m*\u001b[0m\u001b[0mnp\u001b[0m\u001b[1;33m.\u001b[0m\u001b[0mpi\u001b[0m \u001b[1;33m/\u001b[0m\u001b[1;36m2\u001b[0m\u001b[1;33m\u001b[0m\u001b[0m\n\u001b[0m\u001b[1;32m      4\u001b[0m \u001b[0mJ\u001b[0m \u001b[1;33m=\u001b[0m \u001b[1;36m2.0\u001b[0m\u001b[1;33m\u001b[0m\u001b[0m\n\u001b[1;32m      5\u001b[0m \u001b[0mU\u001b[0m \u001b[1;33m=\u001b[0m \u001b[1;36m0\u001b[0m\u001b[1;33m\u001b[0m\u001b[0m\n",
      "\u001b[0;31mNameError\u001b[0m: name 'np' is not defined"
     ]
    }
   ],
   "source": [
    "maxPhoton = 3\n",
    "maxCav = 4\n",
    "theta = -0.8*np.pi /2\n",
    "J = 2.0\n",
    "U = 0\n",
    "theta = theta/maxCav\n",
    "#定义常数\n",
    "vac = basis(maxPhoton,0)\n",
    "adown = destroy(maxPhoton)\n",
    "adown_list = []\n",
    "aup = create(maxPhoton)\n",
    "aup_list = []\n",
    "num = aup*adown\n",
    "num_list = []\n",
    "#定义了单体产生湮灭算符、粒子数算符、真空态\n",
    "for n in range(maxCav):\n",
    "    op_list = []\n",
    "    for m in range(maxCav):\n",
    "        op_list.append(qeye(maxPhoton))\n",
    "    op_list[n] = adown\n",
    "    adown_list.append(tensor(op_list))\n",
    "    op_list[n] = aup\n",
    "    aup_list.append(tensor(op_list))\n",
    "    op_list[n] = num\n",
    "    num_list.append(tensor(op_list))\n",
    "#定义了多体产生湮灭算符、粒子数算符\n",
    "op_list = []\n",
    "for m in range(maxCav):\n",
    "        op_list.append(vac)\n",
    "vac = tensor(op_list)\n",
    "#定义了多体真空态\n",
    "H = 0\n",
    "for n in range(maxCav):\n",
    "    startsite = n\n",
    "    targetsite = n+1\n",
    "    if startsite == maxCav-1:\n",
    "        targetsite = 0\n",
    "    #如果是最后一个格点，下一个格点将是第一个\n",
    "    temp = np.exp(1j*theta)*aup_list[startsite]*adown_list[targetsite]\n",
    "    H += J * (temp + temp.dag())\n",
    "    H += 0.5*U*(num_list[n]*num_list[n]-num_list[n])\n",
    "#定义了哈密顿\n",
    "psi0 = (aup_list[0]*vac).unit()"
   ]
  },
  {
   "cell_type": "code",
   "execution_count": 24,
   "metadata": {
    "collapsed": false
   },
   "outputs": [],
   "source": [
    "t = np.linspace(0,3,1000)\n",
    "result = mesolve(H,psi0,t,[],num_list)"
   ]
  },
  {
   "cell_type": "code",
   "execution_count": 25,
   "metadata": {
    "collapsed": false
   },
   "outputs": [
    {
     "data": {
      "image/png": "[encoded data removed]",
      "text/plain": [
       "<matplotlib.figure.Figure at 0xaa967b8>"
      ]
     },
     "metadata": {},
     "output_type": "display_data"
    }
   ],
   "source": [
    "fig,ax = plt.pyplot.subplots()"
   ]
  },
  {
   "cell_type": "code",
   "execution_count": 26,
   "metadata": {
    "collapsed": false
   },
   "outputs": [],
   "source": [
    "for i in range(maxCav):\n",
    "    ax.plot(t,result.expect[i])\n",
    "fig.set_size_inches(14.5, 8)"
   ]
  },
  {
   "cell_type": "code",
   "execution_count": 30,
   "metadata": {
    "collapsed": false
   },
   "outputs": [
    {
     "data": {
      "text/plain": [
       "[<matplotlib.lines.Line2D at 0xaa961d0>]"
      ]
     },
     "execution_count": 30,
     "metadata": {},
     "output_type": "execute_result"
    }
   ],
   "source": [
    "x = result.expect[0]*(-1)+result.expect[1]*1+result.expect[2]*1+result.expect[3]*(-1)\n",
    "y = result.expect[0]*(-1)+result.expect[1]*(-1)+result.expect[2]*1+result.expect[3]*1\n",
    "ax.plot(y/2 ,x/2)"
   ]
  },
  {
   "cell_type": "code",
   "execution_count": 29,
   "metadata": {
    "collapsed": true
   },
   "outputs": [],
   "source": [
    "ax.clear()"
   ]
  },
  {
   "cell_type": "code",
   "execution_count": 31,
   "metadata": {
    "collapsed": false
   },
   "outputs": [
    {
     "data": {
      "image/png": "[encoded data removed]",
      "text/plain": [
       "<matplotlib.figure.Figure at 0xaa967b8>"
      ]
     },
     "execution_count": 31,
     "metadata": {},
     "output_type": "execute_result"
    }
   ],
   "source": [
    "fig"
   ]
  },
  {
   "cell_type": "code",
   "execution_count": null,
   "metadata": {
    "collapsed": true
   },
   "outputs": [],
   "source": []
  }
 ],
 "metadata": {
  "kernelspec": {
   "display_name": "Python 2",
   "language": "python",
   "name": "python2"
  },
  "language_info": {
   "codemirror_mode": {
    "name": "ipython",
    "version": 2
   },
   "file_extension": ".py",
   "mimetype": "text/x-python",
   "name": "python",
   "nbconvert_exporter": "python",
   "pygments_lexer": "ipython2",
   "version": "2.7.13"
  }
 },
 "nbformat": 4,
 "nbformat_minor": 2
}
