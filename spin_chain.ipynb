{
 "cells": [
  {
   "cell_type": "code",
   "execution_count": 1,
   "metadata": {
    "collapsed": true
   },
   "outputs": [],
   "source": [
    "import numpy as np\n",
    "import matplotlib as plt\n",
    "from qutip import *\n",
    "import time"
   ]
  },
  {
   "cell_type": "markdown",
   "metadata": {},
   "source": [
    "$H =  - \\sum\\limits_{j = 1}^N {\\vec h{{\\vec \\sigma }_j} - J} \\sum\\limits_{j = 1}^{N - 1} {{{\\vec \\sigma }_j}{{\\vec \\sigma }_{j + 1}}}$\n",
    "\n",
    "${h_x}(t) = \\sin (\\frac{{{v^2}{t^2}}}{{2\\pi }})$\n",
    "\n",
    "${h_z}(t) = \\cos (\\frac{{{v^2}{t^2}}}{{2\\pi }})$\n",
    "\n",
    "${h_y}(t) = 0$"
   ]
  },
  {
   "cell_type": "code",
   "execution_count": 4,
   "metadata": {
    "collapsed": true
   },
   "outputs": [],
   "source": [
    "def ExpectofSpinChain(N,J,hx,hy,hz,time_list):\n",
    "    #psi0 is the initial state\n",
    "    #N(int) is the number of spins\n",
    "    #J(int) is the interacting strength\n",
    "    #{hx,hy,hz}(string) is the strength of the magnetic field and input as string type.\n",
    "    #time_list(list[]) define the time list for solving SE equantion\n",
    "    si = qeye(2)\n",
    "    sx = sigmax()\n",
    "    sy = sigmay()\n",
    "    sz = sigmaz()\n",
    "    #define some abbr\n",
    "    sx_list = []\n",
    "    sy_list = []\n",
    "    sz_list = []\n",
    "    for n in range(N):\n",
    "        op_list = []\n",
    "        for m in range(N):\n",
    "            op_list.append(si)\n",
    "\n",
    "        op_list[n] = sx\n",
    "        sx_list.append(tensor(op_list))\n",
    "\n",
    "        op_list[n] = sy\n",
    "        sy_list.append(tensor(op_list))\n",
    "\n",
    "        op_list[n] = sz\n",
    "        sz_list.append(tensor(op_list))\n",
    "    #construct a Operator List for convenience.\n",
    "    H0 = 0\n",
    "    for n in range(N-1):\n",
    "        H0 += -  J * sx_list[n] * sx_list[n+1]\n",
    "        H0 += -  J * sy_list[n] * sy_list[n+1]\n",
    "        H0 += -  J * sz_list[n] * sz_list[n+1]\n",
    "    #construct the static part of Hamiltonian\n",
    "    H_dynamic_x = 0\n",
    "    for n in range(N):\n",
    "        H_dynamic_x += -  sx_list[n]\n",
    "    H_dynamic_y = 0\n",
    "    for n in range(N):\n",
    "        H_dynamic_y += -  sy_list[n]\n",
    "    H_dynamic_z = 0\n",
    "    for n in range(N):\n",
    "        H_dynamic_z += -  sz_list[n]\n",
    "    #construct the dynamical parts of Hamitonian\n",
    "    psi0 = (H0 + H_dynamic_z).groundstate()[1]\n",
    "    #construct the initial state\n",
    "    H = [H0,[H_dynamic_x,hx],[H_dynamic_y,hy],[H_dynamic_z,hz]]\n",
    "    result = mesolve(H,psi0,time_list,[],sy_list)\n",
    "    return result.expect"
   ]
  },
  {
   "cell_type": "code",
   "execution_count": 6,
   "metadata": {
    "collapsed": false
   },
   "outputs": [
    {
     "name": "stdout",
     "output_type": "stream",
     "text": [
      "6179.41600013\n"
     ]
    }
   ],
   "source": [
    "start_time = time.time()\n",
    "def hx(t,args):\n",
    "    return np.sin(0.01*t*t/(2*np.pi))\n",
    "def hz(t,args):\n",
    "    return np.cos(0.01*t*t/(2*np.pi))\n",
    "def hy(t,args):\n",
    "    return 0\n",
    "# the configuration of magnetic field,fixed v = 0.1\n",
    "N = 10\n",
    "step_of_J = 100\n",
    "J =  np.linspace(-1.6,0.1,step_of_J)\n",
    "step = 100\n",
    "# the step of time list\n",
    "t_list = np.linspace(0,np.pi/0.1,step)\n",
    "my = []\n",
    "for i in range(step_of_J):\n",
    "    temp = 0\n",
    "    for n in range(N):\n",
    "        temp += ExpectofSpinChain(N,J[i],hx,hy,hz,t_list)[n][step-1]/0.1 \n",
    "    my.append(temp)\n",
    "end_time = time.time()\n",
    "print end_time - start_time"
   ]
  },
  {
   "cell_type": "code",
   "execution_count": 7,
   "metadata": {
    "collapsed": false
   },
   "outputs": [
    {
     "name": "stdout",
     "output_type": "stream",
     "text": [
      "3192.71399999\n"
     ]
    }
   ],
   "source": [
    "start_time = time.time()\n",
    "def hx(t,args):\n",
    "    return np.sin(0.01*t*t/(2*np.pi))\n",
    "def hz(t,args):\n",
    "    return np.cos(0.01*t*t/(2*np.pi))\n",
    "def hy(t,args):\n",
    "    return 0\n",
    "# the configuration of magnetic field,fixed v = 0.1\n",
    "# In Windows, strings can cause an issue.I guess it's cython that not work well on my machine\n",
    "N_1 = 9\n",
    "step_of_J = 100\n",
    "J =  np.linspace(-1.6,0.1,step_of_J)\n",
    "step = 100\n",
    "# the step of time list\n",
    "t_list = np.linspace(0,np.pi/0.1,step)\n",
    "my_1 = []\n",
    "for i in range(step_of_J):\n",
    "    temp = 0\n",
    "    for n in range(N_1):\n",
    "        temp += ExpectofSpinChain(N_1,J[i],hx,hy,hz,t_list)[n][step-1]/0.1 \n",
    "    my_1.append(temp)\n",
    "end_time = time.time()\n",
    "print end_time - start_time"
   ]
  },
  {
   "cell_type": "code",
   "execution_count": 8,
   "metadata": {
    "collapsed": false
   },
   "outputs": [],
   "source": [
    "fig , ax = plt.pyplot.subplots()"
   ]
  },
  {
   "cell_type": "code",
   "execution_count": 11,
   "metadata": {
    "collapsed": false
   },
   "outputs": [
    {
     "data": {
      "text/plain": [
       "<matplotlib.legend.Legend at 0xe4232e8>"
      ]
     },
     "execution_count": 11,
     "metadata": {},
     "output_type": "execute_result"
    }
   ],
   "source": [
    "ax.clear()\n",
    "ax.plot(J,my,'ro-')\n",
    "ax.plot(J,my_1,'o--')\n",
    "ax.set_xlabel('J(Strength of Interacition)')\n",
    "ax.set_ylabel('${F_{\\phi \\theta }}$')\n",
    "ax.set_title('The Berry Curvature in Heisenberg Spin Chain')\n",
    "ax.legend(('$N=10$','$N=9$'))"
   ]
  },
  {
   "cell_type": "code",
   "execution_count": 12,
   "metadata": {
    "collapsed": false
   },
   "outputs": [
    {
     "data": {
      "image/png": "[encoded data removed]",
      "text/plain": [
       "<matplotlib.figure.Figure at 0xd6c88d0>"
      ]
     },
     "execution_count": 12,
     "metadata": {},
     "output_type": "execute_result"
    }
   ],
   "source": [
    "fig.set_size_inches(14.5, 8)\n",
    "fig"
   ]
  },
  {
   "cell_type": "code",
   "execution_count": 4,
   "metadata": {
    "collapsed": false
   },
   "outputs": [
    {
     "data": {
      "text/html": [
       "<table><tr><th>Software</th><th>Version</th></tr><tr><td>QuTiP</td><td>4.0.2</td></tr><tr><td>Numpy</td><td>1.12.0</td></tr><tr><td>SciPy</td><td>0.18.1</td></tr><tr><td>matplotlib</td><td>2.0.0</td></tr><tr><td>Cython</td><td>0.25.2</td></tr><tr><td>Number of CPUs</td><td>2</td></tr><tr><td>BLAS Info</td><td>OPENBLAS</td></tr><tr><td>IPython</td><td>5.1.0</td></tr><tr><td>Python</td><td>2.7.13 |Anaconda 4.3.0 (x86_64)| (default, Dec 20 2016, 23:05:08) \n",
       "[GCC 4.2.1 Compatible Apple LLVM 6.0 (clang-600.0.57)]</td></tr><tr><td>OS</td><td>posix [darwin]</td></tr><tr><td colspan='2'>Mon Mar 06 10:58:36 2017 CST</td></tr></table>"
      ],
      "text/plain": [
       "<IPython.core.display.HTML object>"
      ]
     },
     "execution_count": 4,
     "metadata": {},
     "output_type": "execute_result"
    }
   ],
   "source": [
    "from qutip.ipynbtools import version_table\n",
    "\n",
    "version_table()"
   ]
  },
  {
   "cell_type": "code",
   "execution_count": null,
   "metadata": {
    "collapsed": true
   },
   "outputs": [],
   "source": []
  }
 ],
 "metadata": {
  "kernelspec": {
   "display_name": "Python 2",
   "language": "python",
   "name": "python2"
  },
  "language_info": {
   "codemirror_mode": {
    "name": "ipython",
    "version": 2
   },
   "file_extension": ".py",
   "mimetype": "text/x-python",
   "name": "python",
   "nbconvert_exporter": "python",
   "pygments_lexer": "ipython2",
   "version": "2.7.13"
  }
 },
 "nbformat": 4,
 "nbformat_minor": 2
}
